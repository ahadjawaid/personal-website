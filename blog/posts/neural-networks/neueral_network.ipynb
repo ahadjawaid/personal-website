{
 "cells": [
  {
   "cell_type": "code",
   "execution_count": 19,
   "metadata": {},
   "outputs": [],
   "source": [
    "#| hide\n",
    "import matplotlib.pyplot as plt\n",
    "import numpy as np\n",
    "from functools import partial"
   ]
  },
  {
   "cell_type": "code",
   "execution_count": 41,
   "metadata": {},
   "outputs": [],
   "source": [
    "#| hide\n",
    "def graph_function(fn):\n",
    "    x = np.linspace(-50, 50)\n",
    "    y = fn(x)\n",
    "\n",
    "    fig, ax = plt.subplots()\n",
    "\n",
    "    ax.spines['left'].set_position('center')\n",
    "    ax.spines['bottom'].set_position('center')\n",
    "\n",
    "    ax.spines['right'].set_color('none')\n",
    "    ax.spines['top'].set_color('none')\n",
    "\n",
    "    ax.xaxis.set_ticks_position('bottom')\n",
    "    ax.yaxis.set_ticks_position('left')\n",
    "\n",
    "    plt.plot(x, y)\n",
    "\n",
    "    plt.grid(True)\n",
    "\n",
    "    plt.show()\n",
    "\n",
    "def fn(x, theta):\n",
    "    return sum([x * t for t in theta])"
   ]
  },
  {
   "attachments": {},
   "cell_type": "markdown",
   "metadata": {},
   "source": [
    "# Neural Network\n",
    "\n",
    "This article is an explaintion of what neural networks are and how and why they work.\n",
    "\n",
    "- **Function:** A function is something that takes some inputs and return some outputs\n",
    "\n",
    "E.g.:\n",
    "\n",
    "$$ f(5) = 2 $$\n",
    "$$ g(10) = 6 $$\n",
    "\n",
    "**What is a neural network?**\n",
    "\n",
    "It is mearly a parameterized function that is able approximates other functions by changing it's parameters. Don't worry if you don't understand every word in this definition as you will know what it all means by the end of this article.\n",
    "\n",
    "### Parameterized function\n",
    "\n",
    "A parameterized function is a function that can change what it outputs based on it's parameters. I think it is easier to understand what it is by an example.\n",
    "\n",
    "Let's say the parameters are:\n",
    "\n",
    "$$ \\theta_1 = 2, \\quad \\theta_2 = 3 $$ \n",
    "\n",
    "$\\theta$ is pronounced theta\n",
    "\n",
    "And with the following parameterized function $f$:\n",
    "\n",
    "$$ f(x, \\theta_1, \\theta_2) = \\theta_1 x + \\theta_2 x x$$\n",
    "\n",
    "We can feed in the parameter where $x = 1$ and get:\n",
    "\n",
    "\\begin{align*}\n",
    "f(x=1, \\theta_1=2, \\theta_2=3) &=  2 \\times 1 + 3 \\times 1\\\\\n",
    "&= 2 + 3 + 4 \\\\\n",
    "&= 9\n",
    "\\end{align*}\n",
    "\n",
    "Since writing $\\theta_1$, $\\theta_2$ can get a bit long to write in the equation it is usally written like the following:\n",
    "\n",
    "$$ f(x; \\theta) = \\theta_1 x + \\theta_2 x$$\n",
    "where $ \\theta = \\theta_1, \\theta_2$\n",
    "\n",
    "So now that you know what a parameterized function. This is also called a linear equation in Linear algrebra. And we can graph it so you can se what this looks like:"
   ]
  },
  {
   "cell_type": "code",
   "execution_count": 39,
   "metadata": {},
   "outputs": [],
   "source": [
    "#| hide\n",
    "fn_with_parameters = partial(fn, theta=[2,3])"
   ]
  },
  {
   "cell_type": "code",
   "execution_count": 40,
   "metadata": {},
   "outputs": [
    {
     "data": {
      "image/png": "[encoded data removed]",
      "text/plain": [
       "<Figure size 640x480 with 1 Axes>"
      ]
     },
     "metadata": {},
     "output_type": "display_data"
    }
   ],
   "source": [
    "\n",
    "graph_function(fn_with_parameters)"
   ]
  },
  {
   "attachments": {},
   "cell_type": "markdown",
   "metadata": {},
   "source": [
    "## Making a neural network\n",
    "\n",
    "Now that we understand what a parameterized function / linear combinitation is you know how a neural network works. A neural network is just a parameterized function although the one you would be a simple one it is none the less a neural network. To get to a more modern neural network we are just missing a few pieces. The first piece we are missing is the depth of deep neural networks.\n",
    "\n",
    "### Deep Neural Networks\n",
    "\n",
    "So if you have heard deep learning before the word deep refers to this aspect of neural networks. *Deep* means the neural network is being repersented as a composition of multiple parameterized functions. This sounds complicated but it is as simple as the equation we saw before but with a twist.\n",
    "\n",
    "Let's say we have two parameterized functions $f$ and $g$:\n",
    "\n",
    "$$ f(x, \\theta) = \\theta_1 x + \\theta_2 x $$\n",
    "$$ g(x, \\theta) = \\theta_1 x + \\theta_2 x $$\n",
    "\n",
    "So the twist comes in here. We will feed the outputs of $f$ as the inputs of $g$:\n",
    "\n",
    "\n",
    "$$ g( \\: f( \\ x, \\ \\theta_f) \\ , \\ \\theta_g \\:) $$\n",
    "\n",
    "Fully written out the equation is now:\n",
    "\n",
    "$$ g( \\: f( \\ x, \\ \\theta_f) \\ , \\ \\theta_g \\:) \\ = \\ \\theta_{g1} \\ ( \\theta_{f1} \\ x + \\theta_{f2} \\ x) \\  + \\ \\theta_{g2} \\ ( \\theta_{f1} \\ x + \\theta_{f2} \\ x) $$\n",
    "\n",
    "This is called a composition of functions. Where you feed the outputs of one function into the inputs of another. This is the deep aspect of deep neural networks you are feeding the outputs of one function or layer into another function / layer. \n",
    "\n",
    "Let's use this function! Where $x = 1$\n",
    "\n",
    "$$ \\theta_{f1} = 2, \\quad \\theta_{f2} = 3 $$\n",
    "$$ \\theta_{g1} = 3, \\quad \\theta_{g2} = 4 $$\n",
    "\n",
    "\\begin{align*}\n",
    "g( \\: f( \\ x=1, \\ \\theta_f) \\ , \\ \\theta_g \\:) &= 3 \\times ( 2 \\times 1 + 3 \\times 1) + 4 \\times ( 2 \\times 1 + 3 \\times 1) \\\\\n",
    "&= 3 \\times (2 + 3) + 4 \\times (2 + 3) \\\\\n",
    "&= 3 \\times 5  + 4 \\times 5 \\\\\n",
    "&= 15 + 20 \\\\\n",
    "&= 35\n",
    "\n",
    "\\end{align*} \n",
    "\n"
   ]
  },
  {
   "attachments": {},
   "cell_type": "markdown",
   "metadata": {},
   "source": []
  }
 ],
 "metadata": {
  "kernelspec": {
   "display_name": "Python 3",
   "language": "python",
   "name": "python3"
  },
  "language_info": {
   "codemirror_mode": {
    "name": "ipython",
    "version": 3
   },
   "file_extension": ".py",
   "mimetype": "text/x-python",
   "name": "python",
   "nbconvert_exporter": "python",
   "pygments_lexer": "ipython3",
   "version": "3.10.7"
  },
  "orig_nbformat": 4
 },
 "nbformat": 4,
 "nbformat_minor": 2
}
